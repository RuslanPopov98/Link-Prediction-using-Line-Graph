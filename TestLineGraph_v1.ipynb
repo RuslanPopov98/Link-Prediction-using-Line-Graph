{
 "cells": [
  {
   "cell_type": "code",
   "execution_count": 13,
   "id": "3ec10ced-9218-4bbc-be9b-5f2db6fceb02",
   "metadata": {},
   "outputs": [],
   "source": [
    "import dgl\n",
    "import torch\n",
    "import numpy as np\n",
    "import networkx as nx\n",
    "from node2vec import Node2Vec\n",
    "import matplotlib.pyplot as plt\n",
    "import scipy.sparse as sp\n",
    "import torch.nn as nn\n",
    "import torch.nn.functional as F\n",
    "from sklearn.neighbors import NearestNeighbors\n",
    "import dgl.function as fn\n",
    "import dgl.nn.pytorch as dglnn\n",
    "import itertools\n",
    "from dgl.nn import GraphConv\n",
    "from dgl.nn import SumPooling\n",
    "from dgl.nn import DenseGraphConv\n",
    "from dgl.nn import SAGEConv\n",
    "import dgl.data"
   ]
  },
  {
   "cell_type": "code",
   "execution_count": 14,
   "id": "cada2b50-b2ac-4c56-93c3-8b5228720b0b",
   "metadata": {},
   "outputs": [],
   "source": [
    "def create_line_graph(graph):\n",
    "    graph = nx.line_graph(graph)\n",
    "    node_mapper = {node: i for i, node in enumerate(graph.nodes())}\n",
    "    edges = [[node_mapper[edge[0]], node_mapper[edge[1]]] for edge in graph.edges()]\n",
    "    line_graph = nx.from_edgelist(edges)\n",
    "    return line_graph "
   ]
  },
  {
   "cell_type": "code",
   "execution_count": 15,
   "id": "0675c419-c2b1-4198-a43f-eca12bff2d5b",
   "metadata": {},
   "outputs": [],
   "source": [
    "def visualize(labels, g):\n",
    "    pos = nx.spring_layout(g, seed=1)\n",
    "    plt.figure(figsize=(18, 18))\n",
    "    plt.axis('off')\n",
    "    nx.draw_networkx(g, pos=pos, node_size=30, cmap=plt.get_cmap('coolwarm'), # node_color=labels, \n",
    "                     edge_color='k', arrows=True, width=0.7, style='dotted', with_labels=False)"
   ]
  },
  {
   "cell_type": "markdown",
   "id": "285ee14c-4107-4aff-a1c7-4cc02e9221e5",
   "metadata": {},
   "source": [
    "# Test Line Graph"
   ]
  },
  {
   "cell_type": "code",
   "execution_count": 16,
   "id": "54a7429f-f49a-4e6e-a3c9-a8a35a5733aa",
   "metadata": {},
   "outputs": [],
   "source": [
    "edges = [\n",
    "        ['7', '6'],\n",
    "        ['6', '5'],\n",
    "        ['5', '4'],\n",
    "        ['5', '2'],\n",
    "        ['4', '3'],\n",
    "        ['2', '1'],\n",
    "        ['2', '3'],\n",
    "        ['3', '1'],\n",
    "    ]\n",
    "\n",
    "G = nx.Graph()\n",
    "G.add_edges_from(edges)"
   ]
  },
  {
   "cell_type": "code",
   "execution_count": 17,
   "id": "32558ae2-fd71-4740-977b-0f3c1d621ae3",
   "metadata": {},
   "outputs": [],
   "source": [
    "LG = create_line_graph(G)\n",
    "LnxG = nx.line_graph(G)"
   ]
  },
  {
   "cell_type": "code",
   "execution_count": 18,
   "id": "d20f7c51-f18f-4a60-a990-f1a61bf14a50",
   "metadata": {},
   "outputs": [
    {
     "name": "stdout",
     "output_type": "stream",
     "text": [
      "False\n",
      "False\n",
      "False\n"
     ]
    }
   ],
   "source": [
    "print(G.is_directed())\n",
    "print(LG.is_directed())\n",
    "print(LnxG.is_directed())"
   ]
  },
  {
   "cell_type": "code",
   "execution_count": 19,
   "id": "79c6bb49-4338-49d0-b6fc-6911fe50e5fe",
   "metadata": {},
   "outputs": [
    {
     "name": "stdout",
     "output_type": "stream",
     "text": [
      "7 8\n",
      "8 12\n",
      "8 12\n"
     ]
    }
   ],
   "source": [
    "print(G.number_of_nodes(), G.number_of_edges())\n",
    "print(LG.number_of_nodes(), LG.number_of_edges())\n",
    "print(LnxG.number_of_nodes(), LnxG.number_of_edges())"
   ]
  },
  {
   "cell_type": "code",
   "execution_count": 20,
   "id": "03c3e119-cff5-45f7-bd55-a3de04e434e6",
   "metadata": {},
   "outputs": [
    {
     "data": {
      "text/plain": [
       "NodeView((('6', '7'), ('1', '2'), ('1', '3'), ('2', '3'), ('3', '4'), ('2', '5'), ('4', '5'), ('5', '6')))"
      ]
     },
     "execution_count": 20,
     "metadata": {},
     "output_type": "execute_result"
    }
   ],
   "source": [
    "LnxG.nodes()"
   ]
  },
  {
   "cell_type": "code",
   "execution_count": 21,
   "id": "367f7ba1-3672-437b-89eb-3894dc012cb9",
   "metadata": {},
   "outputs": [
    {
     "data": {
      "text/plain": [
       "EdgeView([(('6', '7'), ('5', '6')), (('1', '2'), ('1', '3')), (('1', '2'), ('2', '3')), (('1', '2'), ('2', '5')), (('1', '3'), ('3', '4')), (('1', '3'), ('2', '3')), (('2', '3'), ('3', '4')), (('2', '3'), ('2', '5')), (('3', '4'), ('4', '5')), (('2', '5'), ('5', '6')), (('2', '5'), ('4', '5')), (('4', '5'), ('5', '6'))])"
      ]
     },
     "execution_count": 21,
     "metadata": {},
     "output_type": "execute_result"
    }
   ],
   "source": [
    "LnxG.edges()"
   ]
  },
  {
   "cell_type": "code",
   "execution_count": 22,
   "id": "469d41be-7dd1-41d9-a108-c5d7da84ce93",
   "metadata": {},
   "outputs": [],
   "source": [
    "dual_g = dgl.from_networkx(LnxG)"
   ]
  },
  {
   "cell_type": "code",
   "execution_count": 23,
   "id": "32268dd2-9e34-43d3-800a-e49feb2c0b94",
   "metadata": {},
   "outputs": [
    {
     "name": "stdout",
     "output_type": "stream",
     "text": [
      "8 [tensor(0), tensor(1), tensor(2), tensor(3), tensor(4), tensor(5), tensor(6), tensor(7)]\n",
      "24\n"
     ]
    },
    {
     "data": {
      "text/plain": [
       "[tensor([7, 0, 0, 0, 1, 1, 1, 2, 2, 2, 2, 4, 4, 4, 3, 3, 3, 3, 5, 5, 5, 6, 6, 6]),\n",
       " tensor([6, 1, 2, 3, 0, 4, 2, 0, 1, 4, 3, 1, 2, 5, 0, 2, 6, 5, 4, 3, 6, 7, 3, 5])]"
      ]
     },
     "execution_count": 23,
     "metadata": {},
     "output_type": "execute_result"
    }
   ],
   "source": [
    "print(len(list(dual_g.nodes())), list(dual_g.nodes()))\n",
    "print(len(list(dual_g.edges())[0]))\n",
    "list(dual_g.edges())"
   ]
  },
  {
   "cell_type": "code",
   "execution_count": null,
   "id": "2be57e34-6199-4f94-acf5-f15c79d675fc",
   "metadata": {},
   "outputs": [],
   "source": []
  },
  {
   "cell_type": "code",
   "execution_count": 24,
   "id": "6cd26d6b-1cb1-4089-be0d-403e65aa4aec",
   "metadata": {
    "tags": []
   },
   "outputs": [
    {
     "data": {
      "image/png": "[encoded data removed]",
      "text/plain": [
       "<Figure size 1296x1296 with 1 Axes>"
      ]
     },
     "metadata": {},
     "output_type": "display_data"
    }
   ],
   "source": [
    "label = ['r','b','b','b','b','b','b','b']#g.ndata['label']\n",
    "#nx_G1 = g.to_networkx()\n",
    "    \n",
    "visualize(label, LnxG)"
   ]
  },
  {
   "cell_type": "code",
   "execution_count": 11,
   "id": "98618b90-5feb-4f94-99e1-b0a52716e837",
   "metadata": {
    "tags": []
   },
   "outputs": [
    {
     "data": {
      "application/vnd.jupyter.widget-view+json": {
       "model_id": "daa353198eb1457eb1cba367787e34c4",
       "version_major": 2,
       "version_minor": 0
      },
      "text/plain": [
       "Computing transition probabilities:   0%|          | 0/7 [00:00<?, ?it/s]"
      ]
     },
     "metadata": {},
     "output_type": "display_data"
    },
    {
     "name": "stderr",
     "output_type": "stream",
     "text": [
      "Generating walks (CPU: 1): 100%|██████████| 10/10 [00:00<00:00, 571.72it/s]\n"
     ]
    }
   ],
   "source": [
    "node2vec = Node2Vec(G)\n",
    "model = node2vec.fit(window=10, min_count=1)\n",
    "embeddings = np.array([model.wv[x] for x in list(G.nodes)])"
   ]
  },
  {
   "cell_type": "code",
   "execution_count": 12,
   "id": "ebc931cf-04f4-4ecf-83f0-68a4cc7e3743",
   "metadata": {},
   "outputs": [
    {
     "name": "stdout",
     "output_type": "stream",
     "text": [
      "['7', '6', '5', '4', '2', '3', '1']\n",
      "70\n",
      "80 ['7', '6', '5', '2', '3', '1', '2', '3', '4', '3', '2', '3', '4', '3', '1', '2', '5', '2', '3', '1', '3', '2', '1', '3', '4', '5', '4', '5', '6', '7', '6', '5', '6', '5', '4', '3', '1', '2', '1', '3', '4', '3', '4', '3', '1', '3', '1', '3', '1', '2', '3', '4', '3', '4', '3', '4', '3', '4', '3', '4', '5', '6', '5', '6', '7', '6', '5', '4', '3', '1', '2', '1', '3', '4', '5', '4', '5', '6', '5', '4']\n"
     ]
    }
   ],
   "source": [
    "print(list(G.nodes)[:10])\n",
    "print(len(node2vec.walks))\n",
    "print(len(list(node2vec.walks[0])), list(node2vec.walks[0]))"
   ]
  },
  {
   "cell_type": "code",
   "execution_count": 15,
   "id": "00f6b3f9-a110-47a2-9fb5-3f4c0efa9a16",
   "metadata": {},
   "outputs": [
    {
     "ename": "KeyError",
     "evalue": "\"Key '7' not present\"",
     "output_type": "error",
     "traceback": [
      "\u001b[0;31m---------------------------------------------------------------------------\u001b[0m",
      "\u001b[0;31mKeyError\u001b[0m                                  Traceback (most recent call last)",
      "\u001b[0;32m/var/folders/cm/gfrlqbxx32b2v0hgshlc8mk00000gn/T/ipykernel_16217/2231158760.py\u001b[0m in \u001b[0;36m<module>\u001b[0;34m\u001b[0m\n\u001b[0;32m----> 1\u001b[0;31m \u001b[0mlen\u001b[0m\u001b[0;34m(\u001b[0m\u001b[0mmodel\u001b[0m\u001b[0;34m.\u001b[0m\u001b[0mwv\u001b[0m\u001b[0;34m[\u001b[0m\u001b[0;36m7\u001b[0m\u001b[0;34m]\u001b[0m\u001b[0;34m)\u001b[0m\u001b[0;34m\u001b[0m\u001b[0;34m\u001b[0m\u001b[0m\n\u001b[0m",
      "\u001b[0;32m/opt/anaconda3/lib/python3.9/site-packages/gensim/models/keyedvectors.py\u001b[0m in \u001b[0;36m__getitem__\u001b[0;34m(self, key_or_keys)\u001b[0m\n\u001b[1;32m    393\u001b[0m         \"\"\"\n\u001b[1;32m    394\u001b[0m         \u001b[0;32mif\u001b[0m \u001b[0misinstance\u001b[0m\u001b[0;34m(\u001b[0m\u001b[0mkey_or_keys\u001b[0m\u001b[0;34m,\u001b[0m \u001b[0m_KEY_TYPES\u001b[0m\u001b[0;34m)\u001b[0m\u001b[0;34m:\u001b[0m\u001b[0;34m\u001b[0m\u001b[0;34m\u001b[0m\u001b[0m\n\u001b[0;32m--> 395\u001b[0;31m             \u001b[0;32mreturn\u001b[0m \u001b[0mself\u001b[0m\u001b[0;34m.\u001b[0m\u001b[0mget_vector\u001b[0m\u001b[0;34m(\u001b[0m\u001b[0mkey_or_keys\u001b[0m\u001b[0;34m)\u001b[0m\u001b[0;34m\u001b[0m\u001b[0;34m\u001b[0m\u001b[0m\n\u001b[0m\u001b[1;32m    396\u001b[0m \u001b[0;34m\u001b[0m\u001b[0m\n\u001b[1;32m    397\u001b[0m         \u001b[0;32mreturn\u001b[0m \u001b[0mvstack\u001b[0m\u001b[0;34m(\u001b[0m\u001b[0;34m[\u001b[0m\u001b[0mself\u001b[0m\u001b[0;34m.\u001b[0m\u001b[0mget_vector\u001b[0m\u001b[0;34m(\u001b[0m\u001b[0mkey\u001b[0m\u001b[0;34m)\u001b[0m \u001b[0;32mfor\u001b[0m \u001b[0mkey\u001b[0m \u001b[0;32min\u001b[0m \u001b[0mkey_or_keys\u001b[0m\u001b[0;34m]\u001b[0m\u001b[0;34m)\u001b[0m\u001b[0;34m\u001b[0m\u001b[0;34m\u001b[0m\u001b[0m\n",
      "\u001b[0;32m/opt/anaconda3/lib/python3.9/site-packages/gensim/models/keyedvectors.py\u001b[0m in \u001b[0;36mget_vector\u001b[0;34m(self, key, norm)\u001b[0m\n\u001b[1;32m    436\u001b[0m \u001b[0;34m\u001b[0m\u001b[0m\n\u001b[1;32m    437\u001b[0m         \"\"\"\n\u001b[0;32m--> 438\u001b[0;31m         \u001b[0mindex\u001b[0m \u001b[0;34m=\u001b[0m \u001b[0mself\u001b[0m\u001b[0;34m.\u001b[0m\u001b[0mget_index\u001b[0m\u001b[0;34m(\u001b[0m\u001b[0mkey\u001b[0m\u001b[0;34m)\u001b[0m\u001b[0;34m\u001b[0m\u001b[0;34m\u001b[0m\u001b[0m\n\u001b[0m\u001b[1;32m    439\u001b[0m         \u001b[0;32mif\u001b[0m \u001b[0mnorm\u001b[0m\u001b[0;34m:\u001b[0m\u001b[0;34m\u001b[0m\u001b[0;34m\u001b[0m\u001b[0m\n\u001b[1;32m    440\u001b[0m             \u001b[0mself\u001b[0m\u001b[0;34m.\u001b[0m\u001b[0mfill_norms\u001b[0m\u001b[0;34m(\u001b[0m\u001b[0;34m)\u001b[0m\u001b[0;34m\u001b[0m\u001b[0;34m\u001b[0m\u001b[0m\n",
      "\u001b[0;32m/opt/anaconda3/lib/python3.9/site-packages/gensim/models/keyedvectors.py\u001b[0m in \u001b[0;36mget_index\u001b[0;34m(self, key, default)\u001b[0m\n\u001b[1;32m    410\u001b[0m             \u001b[0;32mreturn\u001b[0m \u001b[0mdefault\u001b[0m\u001b[0;34m\u001b[0m\u001b[0;34m\u001b[0m\u001b[0m\n\u001b[1;32m    411\u001b[0m         \u001b[0;32melse\u001b[0m\u001b[0;34m:\u001b[0m\u001b[0;34m\u001b[0m\u001b[0;34m\u001b[0m\u001b[0m\n\u001b[0;32m--> 412\u001b[0;31m             \u001b[0;32mraise\u001b[0m \u001b[0mKeyError\u001b[0m\u001b[0;34m(\u001b[0m\u001b[0;34mf\"Key '{key}' not present\"\u001b[0m\u001b[0;34m)\u001b[0m\u001b[0;34m\u001b[0m\u001b[0;34m\u001b[0m\u001b[0m\n\u001b[0m\u001b[1;32m    413\u001b[0m \u001b[0;34m\u001b[0m\u001b[0m\n\u001b[1;32m    414\u001b[0m     \u001b[0;32mdef\u001b[0m \u001b[0mget_vector\u001b[0m\u001b[0;34m(\u001b[0m\u001b[0mself\u001b[0m\u001b[0;34m,\u001b[0m \u001b[0mkey\u001b[0m\u001b[0;34m,\u001b[0m \u001b[0mnorm\u001b[0m\u001b[0;34m=\u001b[0m\u001b[0;32mFalse\u001b[0m\u001b[0;34m)\u001b[0m\u001b[0;34m:\u001b[0m\u001b[0;34m\u001b[0m\u001b[0;34m\u001b[0m\u001b[0m\n",
      "\u001b[0;31mKeyError\u001b[0m: \"Key '7' not present\""
     ]
    }
   ],
   "source": [
    "len(model.wv[7])"
   ]
  },
  {
   "cell_type": "code",
   "execution_count": 47,
   "id": "70105f22-95b9-4186-a01b-096c7d35fc31",
   "metadata": {},
   "outputs": [
    {
     "data": {
      "text/plain": [
       "tensor([-0.3562,  0.0719,  0.6468,  1.1467, -0.2215, -1.2640, -0.6763, -0.3687,\n",
       "        -0.2149, -0.0021,  0.1709, -0.1408,  0.2707, -0.7397, -0.8067, -0.1142,\n",
       "        -0.5443,  0.3135, -0.9498, -0.0451, -0.3072, -0.1428,  1.1048, -0.0320,\n",
       "        -0.4650, -0.3227, -0.2037,  0.1510,  0.3425,  0.2850, -0.0886,  0.6421,\n",
       "         0.4755,  0.6475,  0.2516,  0.0088, -0.0652,  0.1911,  0.1721, -0.1007,\n",
       "         0.5439,  1.0305, -0.0793,  0.1415, -0.5288,  0.0169, -0.6118, -0.4543,\n",
       "         0.0310,  0.3839, -0.0662,  0.1455,  0.3521, -0.0699, -0.0243, -0.1893,\n",
       "        -0.4268, -0.6015,  0.3345,  0.2923,  0.5955, -0.0544,  0.0790,  0.0937,\n",
       "         0.4152, -0.6046,  0.5586,  0.3394, -0.0377,  0.1372, -0.2169,  0.6447,\n",
       "        -0.4213,  0.7282,  0.5632, -0.7520,  0.7666,  0.6520, -0.6648, -0.0121,\n",
       "        -0.1924, -0.0465, -0.3198,  0.3609,  0.7441, -0.2645,  0.0722, -0.9286,\n",
       "         0.1259,  0.4971,  0.3305,  0.6858, -0.5329, -0.6132,  0.1821,  0.1690,\n",
       "        -0.0883,  0.2584,  0.0033,  0.1855, -1.0244,  0.5188, -0.2893, -0.6182,\n",
       "         1.1190, -0.1790, -0.0572,  0.2657, -0.7816,  0.4095,  0.2384,  0.4249,\n",
       "        -0.1009, -0.1244,  0.0811,  0.3060,  0.6492, -0.0366,  0.5972,  0.0643,\n",
       "        -0.3615, -0.0904,  0.1301, -0.1282,  0.5141, -0.3934, -0.2758, -0.3113,\n",
       "        -0.2194,  0.3056, -0.5855,  0.7649,  0.3995, -0.1946, -1.0510, -0.2207,\n",
       "        -0.3951,  0.1772, -0.4678,  0.5163,  0.0321, -0.0720, -0.3818, -0.3705,\n",
       "        -0.0294,  0.2076, -1.1122,  0.0556, -0.1336, -0.2765,  0.4697, -0.0238,\n",
       "         0.0438, -0.2678,  0.1708,  0.4043,  0.1159,  0.3212, -0.1542, -0.3657,\n",
       "        -0.4098,  0.0704, -0.0244,  0.0575, -0.1085, -0.4449, -0.0708,  0.2930,\n",
       "         0.1073, -0.4584,  0.1781,  0.2023,  0.0682,  0.2251,  0.0824, -0.2739,\n",
       "        -0.0979, -0.0125,  0.9805,  0.0199,  0.4123,  0.1418, -0.4442, -0.6636,\n",
       "        -0.1683,  0.5979,  0.1291, -0.5081, -0.2341,  0.6023, -0.1154, -0.4226,\n",
       "        -0.1813, -0.2728,  0.4291,  0.1987,  0.2968,  0.3189,  0.3570,  0.5310,\n",
       "         0.2003,  0.5494,  0.4608,  0.0981,  0.0181,  0.7210, -0.5952,  0.0142,\n",
       "         0.2230,  0.1522,  0.7370, -0.1587,  0.1046,  0.0452, -0.0596, -0.3157,\n",
       "        -0.3007,  0.3471,  0.7191,  0.4124, -0.1659,  0.5364, -0.1823,  0.0173,\n",
       "         0.1370,  0.2279, -0.1284,  0.3570, -0.4566,  0.2541, -0.0364,  0.1144,\n",
       "         0.8165, -0.1533,  0.0125, -0.3892, -0.3329,  0.1113,  0.5729,  0.8526,\n",
       "         0.1674,  0.2968, -0.0331, -0.1948,  0.5479,  0.1265,  0.1094,  0.5773,\n",
       "        -0.1050, -0.0267,  0.0729, -0.0154,  0.3111,  0.2300, -0.3747, -0.4691])"
      ]
     },
     "execution_count": 47,
     "metadata": {},
     "output_type": "execute_result"
    }
   ],
   "source": [
    "embeddings[0]"
   ]
  },
  {
   "cell_type": "markdown",
   "id": "49eaa33c-7768-4820-9e01-43828bee0f17",
   "metadata": {},
   "source": [
    "#################################################################################################################################################"
   ]
  },
  {
   "cell_type": "code",
   "execution_count": 25,
   "id": "926081bd-ee99-4d16-a192-0b91f9bd8e51",
   "metadata": {},
   "outputs": [],
   "source": [
    "class GraphSAGE(nn.Module):\n",
    "    def __init__(self, in_feats, h_feats):\n",
    "        super().__init__()\n",
    "        self.conv1 = SAGEConv(in_feats, h_feats, 'mean')\n",
    "        self.conv2 = SAGEConv(h_feats, h_feats, 'mean')\n",
    "\n",
    "    def forward(self, g, in_feat):\n",
    "        h = self.conv1(g, in_feat)\n",
    "        h = F.relu(h)\n",
    "        h = self.conv2(g, h)\n",
    "        return h"
   ]
  },
  {
   "cell_type": "code",
   "execution_count": 27,
   "id": "18b2e5da-9693-4c99-bd90-3fdc660cccbb",
   "metadata": {},
   "outputs": [],
   "source": [
    "def positive_sample(graph, test_size=0.1):\n",
    "    u, v = graph.edges()\n",
    "    eids = np.random.permutation(np.arange(graph.number_of_edges())) #random index edges\n",
    "    test_size_idx = int(len(eids) * test_size) #size positive sample by index\n",
    "\n",
    "    test_pos_u, test_pos_v = u[eids[:test_size_idx]], v[eids[:test_size_idx]]\n",
    "    train_pos_u, train_pos_v = u[eids[test_size_idx:]], v[eids[test_size_idx:]] \n",
    "    \n",
    "    train_pos_g = dgl.graph((train_pos_u, train_pos_v), num_nodes=graph.number_of_nodes())\n",
    "    test_pos_g = dgl.graph((test_pos_u, test_pos_v), num_nodes=graph.number_of_nodes())\n",
    "    \n",
    "    return train_pos_g, test_pos_g"
   ]
  },
  {
   "cell_type": "code",
   "execution_count": 28,
   "id": "ae313913-133f-4bd5-a790-72893ac0fa61",
   "metadata": {},
   "outputs": [
    {
     "name": "stdout",
     "output_type": "stream",
     "text": [
      "  NumNodes: 2708\n",
      "  NumEdges: 10556\n",
      "  NumFeats: 1433\n",
      "  NumClasses: 7\n",
      "  NumTrainingSamples: 140\n",
      "  NumValidationSamples: 500\n",
      "  NumTestSamples: 1000\n",
      "Done loading data from cached files.\n",
      "2708\n",
      "10556\n"
     ]
    }
   ],
   "source": [
    "dataset = dgl.data.CoraGraphDataset()\n",
    "g = dataset[0]\n",
    "G = g.to_networkx()\n",
    "print(len(list(G.nodes())))\n",
    "print(len(list(G.edges())))"
   ]
  },
  {
   "cell_type": "code",
   "execution_count": 29,
   "id": "48d4d2ce-2f97-4c89-9ff9-84dc5610ec8c",
   "metadata": {},
   "outputs": [],
   "source": [
    "def negative_sample(graph, method='kneighbors', size=g.number_of_nodes(), test_size=int(g.number_of_edges()*0.1)):   \n",
    "    new_g = graph.to_networkx()\n",
    "    adj = nx.to_numpy_array(new_g) #adjacency matrix\n",
    "    \n",
    "    if method == 'dgl_example':\n",
    "        adj_neg = 1 - adj - np.eye(graph.number_of_nodes())\n",
    "        neg_u, neg_v = np.where(adj_neg != 0)\n",
    "        neg_eids = np.random.choice(len(neg_u), graph.number_of_edges() // 2) #negative sample random index\n",
    "        \n",
    "        test_neg_u, test_neg_v = neg_u[neg_eids[:test_size]], neg_v[neg_eids[:test_size]]\n",
    "        train_neg_u, train_neg_v = neg_u[neg_eids[test_size:]], neg_v[neg_eids[test_size:]]\n",
    "    \n",
    "    else:\n",
    "        negs_u = []\n",
    "        negs_v = []\n",
    "        negs = []\n",
    "        nnn = NearestNeighbors(n_neighbors=500, metric='cosine')\n",
    "        nnn.fit(adj)\n",
    "        res = nnn.kneighbors(return_distance=False) #top-5 nearest neightbord\n",
    "\n",
    "        for idx, i in enumerate(res):\n",
    "            for j in i:\n",
    "                if not new_g.has_edge(idx, j):\n",
    "                    negs.append([idx, j])\n",
    "\n",
    "        negs = np.array(negs)\n",
    "\n",
    "        for k in range(size):\n",
    "            temp = negs[np.random.permutation(negs.shape[0])[:graph.number_of_edges()]][0]\n",
    "            negs_u.append(temp[0])\n",
    "            negs_v.append(temp[1])\n",
    "            \n",
    "        test_neg_u, test_neg_v = negs_u[:test_size], negs_v[:test_size]\n",
    "        train_neg_u, train_neg_v = negs_u[test_size:], negs_v[test_size:]\n",
    "    \n",
    "    train_neg_g = dgl.graph((train_neg_u, train_neg_v), num_nodes=graph.number_of_nodes())\n",
    "    test_neg_g = dgl.graph((test_neg_u, test_neg_v), num_nodes=graph.number_of_nodes())\n",
    "            \n",
    "    return train_neg_g, test_neg_g"
   ]
  },
  {
   "cell_type": "code",
   "execution_count": 31,
   "id": "75282fae-dbf9-465b-9663-20b59dd07664",
   "metadata": {},
   "outputs": [
    {
     "data": {
      "application/vnd.jupyter.widget-view+json": {
       "model_id": "9e822f0b6ac84856a2c98e3ca87cf4f5",
       "version_major": 2,
       "version_minor": 0
      },
      "text/plain": [
       "Computing transition probabilities:   0%|          | 0/2708 [00:00<?, ?it/s]"
      ]
     },
     "metadata": {},
     "output_type": "display_data"
    },
    {
     "name": "stderr",
     "output_type": "stream",
     "text": [
      "Generating walks (CPU: 1): 100%|██████████| 10/10 [00:08<00:00,  1.23it/s]\n"
     ]
    }
   ],
   "source": [
    "node2vec = Node2Vec(G)\n",
    "model_n2v = node2vec.fit(window=10, min_count=1)\n",
    "embeddings = np.array([model_n2v.wv[x] for x in list(G.nodes)])\n",
    "embeddings = torch.from_numpy(embeddings)\n",
    "g.ndata['feat'] = embeddings"
   ]
  },
  {
   "cell_type": "code",
   "execution_count": 32,
   "id": "1d4d5886-f85f-4926-be1c-48c5a15008b7",
   "metadata": {},
   "outputs": [
    {
     "name": "stdout",
     "output_type": "stream",
     "text": [
      "Graph(num_nodes=2708, num_edges=9501,\n",
      "      ndata_schemes={'feat': Scheme(shape=(128,), dtype=torch.float32), 'label': Scheme(shape=(), dtype=torch.int64), 'val_mask': Scheme(shape=(), dtype=torch.bool), 'test_mask': Scheme(shape=(), dtype=torch.bool), 'train_mask': Scheme(shape=(), dtype=torch.bool)}\n",
      "      edata_schemes={})\n"
     ]
    }
   ],
   "source": [
    "eids = np.random.permutation(np.arange(g.number_of_edges()))\n",
    "train_g = dgl.remove_edges(g, eids[:int(len(eids) * 0.1)]) #subgraph\n",
    "print(train_g)"
   ]
  },
  {
   "cell_type": "code",
   "execution_count": 30,
   "id": "1bf4acf0-78f5-4239-9c37-9b5519f07d2d",
   "metadata": {},
   "outputs": [],
   "source": [
    "def compute_loss(pos_score, neg_score):\n",
    "    scores = torch.cat([pos_score, neg_score])\n",
    "    labels = torch.cat([torch.ones(pos_score.shape[0]), torch.zeros(neg_score.shape[0])])    \n",
    "    return F.binary_cross_entropy_with_logits(scores, labels)\n",
    "\n",
    "def compute_auc(pos_score, neg_score):\n",
    "    scores = torch.cat([pos_score, neg_score]).numpy()\n",
    "    labels = torch.cat([torch.ones(pos_score.shape[0]), torch.zeros(neg_score.shape[0])]).numpy()\n",
    "    return roc_auc_score(labels, scores)"
   ]
  },
  {
   "cell_type": "code",
   "execution_count": 26,
   "id": "a4df005e-6040-4e6e-8a11-a9dadc7295ec",
   "metadata": {},
   "outputs": [],
   "source": [
    "class MLPPredictor(nn.Module):\n",
    "    def __init__(self, h_feats):\n",
    "        super().__init__()\n",
    "        self.W1 = nn.Linear(h_feats * 2, h_feats)\n",
    "        self.W2 = nn.Linear(h_feats, 1)\n",
    "\n",
    "    def apply_edges(self, edges):\n",
    "        h = torch.cat([edges.src['h'], edges.dst['h']], 1)\n",
    "        return {'score': self.W2(F.relu(self.W1(h))).squeeze(1)}\n",
    "\n",
    "    def forward(self, g, h):\n",
    "        with g.local_scope():\n",
    "            g.ndata['h'] = h\n",
    "            g.apply_edges(self.apply_edges)\n",
    "            return g.edata['score']"
   ]
  },
  {
   "cell_type": "code",
   "execution_count": 33,
   "id": "b474b427-8b32-439b-9d49-90e96f358a1a",
   "metadata": {},
   "outputs": [],
   "source": [
    "model = GraphSAGE(train_g.ndata['feat'].shape[1], 20)\n",
    "#model = SAGE(train_g.ndata['feat'].shape[1], 20, 4, F.relu, 0.25)\n",
    "#pred = DotPredictor()\n",
    "pred = MLPPredictor(20)"
   ]
  },
  {
   "cell_type": "code",
   "execution_count": 34,
   "id": "eba31753-bfb7-47a5-8de2-cb4048f024e5",
   "metadata": {},
   "outputs": [],
   "source": [
    "train_pos_g, test_pos_g = positive_sample(g)\n",
    "train_neg_g, test_neg_g = negative_sample(g, 'dgl_example')"
   ]
  },
  {
   "cell_type": "code",
   "execution_count": 47,
   "id": "5c0033ab-4f31-4afc-8032-00e80c6362bc",
   "metadata": {},
   "outputs": [
    {
     "name": "stdout",
     "output_type": "stream",
     "text": [
      "torch.Size([20, 40])\n",
      "torch.Size([20])\n",
      "torch.Size([1, 20])\n",
      "torch.Size([1])\n"
     ]
    }
   ],
   "source": [
    "print(list(pred.parameters())[0].shape)\n",
    "print(list(pred.parameters())[1].shape)\n",
    "print(list(pred.parameters())[2].shape)\n",
    "print(list(pred.parameters())[3].shape)"
   ]
  },
  {
   "cell_type": "code",
   "execution_count": 51,
   "id": "d6f0511c-2012-4645-b384-0a1f60d07364",
   "metadata": {},
   "outputs": [
    {
     "data": {
      "text/plain": [
       "[Parameter containing:\n",
       " tensor([[ 0.2091,  0.2631, -0.1109,  0.1888, -0.1938, -0.0542,  0.0606,  0.1295,\n",
       "          -0.1189,  0.1355, -0.1314, -0.1239,  0.2225, -0.0455,  0.0062, -0.0411,\n",
       "           0.1557, -0.1570, -0.0454, -0.2034,  0.1231,  0.2268,  0.0600,  0.0706,\n",
       "          -0.0872, -0.1695,  0.0367,  0.2364,  0.1668, -0.0405, -0.0432, -0.0054,\n",
       "           0.1927, -0.2519,  0.0144, -0.0519,  0.0412,  0.1169,  0.1710, -0.1632],\n",
       "         [-0.2796, -0.0355, -0.3719, -0.0170,  0.3627,  0.0163, -0.1131, -0.0149,\n",
       "          -0.2587, -0.0535, -0.0042, -0.2348, -0.0394, -0.5846, -0.2425,  0.0146,\n",
       "          -0.1041,  0.1820, -0.1338, -0.0346, -0.0587, -0.0518,  0.4558, -0.0046,\n",
       "          -0.1444,  0.0981,  0.3998,  0.0786,  0.4083,  0.0058,  0.2411, -0.3544,\n",
       "           0.0598,  0.0921, -0.1139,  0.4357, -0.2005, -0.3409,  0.1566,  0.2357],\n",
       "         [-0.1028,  0.0579, -0.0948, -0.1165, -0.1519, -0.1007,  0.0476,  0.0913,\n",
       "          -0.0616, -0.0045,  0.1567, -0.0313, -0.1341,  0.1159, -0.1508, -0.0469,\n",
       "          -0.0672, -0.0774,  0.0878, -0.0564,  0.1133,  0.1033, -0.0871, -0.0056,\n",
       "          -0.0459, -0.0483, -0.1845,  0.1751,  0.0173, -0.0202, -0.1503,  0.1617,\n",
       "          -0.0187,  0.1642, -0.1645,  0.1086,  0.0182, -0.1428, -0.1806, -0.2248],\n",
       "         [ 0.0031,  0.0934, -0.0054,  0.0983, -0.0802, -0.0151,  0.0307, -0.1077,\n",
       "          -0.0651, -0.0533, -0.0553,  0.2253,  0.1610, -0.0673,  0.1080, -0.1319,\n",
       "          -0.0170, -0.0360,  0.1326, -0.1747,  0.2163, -0.0934,  0.3246,  0.1858,\n",
       "          -0.1787, -0.1203, -0.1087,  0.0829, -0.0858,  0.0937, -0.1209, -0.0830,\n",
       "           0.2033,  0.0480, -0.0720, -0.1932,  0.0508,  0.1118, -0.0290,  0.1662],\n",
       "         [ 0.1991,  0.0168,  0.0843,  0.0353,  0.0074, -0.1114,  0.1103,  0.2987,\n",
       "          -0.1214, -0.0790, -0.1811, -0.0496,  0.2143, -0.1267,  0.0736, -0.1873,\n",
       "          -0.0552, -0.0367, -0.1102,  0.1980, -0.0515,  0.0802, -0.0672,  0.1272,\n",
       "          -0.2554,  0.0684,  0.0289,  0.1339,  0.1165, -0.0309, -0.2100, -0.0704,\n",
       "           0.1881, -0.0655,  0.1627, -0.1164,  0.0324,  0.2407, -0.0048, -0.1663],\n",
       "         [-0.1527,  0.3474, -0.0801,  0.1032,  0.0647, -0.2287,  0.0226,  0.0622,\n",
       "           0.0242,  0.0685, -0.1670, -0.0325,  0.1336,  0.1338, -0.2482,  0.1184,\n",
       "           0.1781,  0.1919, -0.0452,  0.0390,  0.0230,  0.2146, -0.0666, -0.0460,\n",
       "          -0.0263,  0.0472,  0.1919, -0.1539, -0.0744,  0.1516,  0.0575, -0.1261,\n",
       "          -0.1591, -0.1433, -0.0723, -0.0826, -0.0491, -0.1387, -0.2408, -0.3719],\n",
       "         [ 0.0016, -0.1184,  0.1362,  0.1146,  0.3456,  0.1084,  0.6393,  0.3888,\n",
       "          -0.1239,  0.0508, -0.0770, -0.4540,  0.1786,  0.4562, -0.1749,  0.4566,\n",
       "          -0.0968, -0.2145, -0.0349,  0.3894,  0.0156, -0.1115, -0.0486,  0.0108,\n",
       "           0.4406, -0.1599,  0.1074, -0.2392, -0.4252,  0.0916,  0.2017, -0.1847,\n",
       "           0.2719, -0.2566, -0.4839,  0.2491, -0.5426,  0.4022, -0.2935,  0.2601],\n",
       "         [ 0.0169, -0.0966,  0.2009,  0.0157, -0.0328,  0.1789, -0.1391, -0.0354,\n",
       "           0.1242, -0.0502, -0.1771, -0.0668,  0.1946,  0.1151,  0.0301, -0.1552,\n",
       "           0.0334, -0.1369,  0.1236,  0.0720, -0.0738, -0.0952,  0.1872,  0.1131,\n",
       "          -0.0117,  0.1053, -0.0806, -0.0911,  0.1742, -0.0066, -0.2713,  0.0903,\n",
       "           0.2951,  0.1714, -0.0142, -0.0426, -0.0894, -0.1309,  0.1016, -0.1517],\n",
       "         [-0.0389,  0.0574, -0.0658,  0.0386, -0.3999, -0.1450, -0.5460, -0.1067,\n",
       "           0.0083, -0.0763, -0.6505,  0.0971,  0.1625,  0.1676, -0.2434,  0.0767,\n",
       "           0.3782, -0.1096, -0.4012,  0.2454, -0.2383, -0.4319, -0.2262, -0.0560,\n",
       "           0.1222, -0.1592,  0.2607,  0.0089,  0.0258, -0.2247,  0.4185, -0.2494,\n",
       "          -0.1790, -0.0586,  0.0079,  0.2598,  0.1042,  0.1856, -0.0514, -0.0204],\n",
       "         [-0.0772, -0.1326,  0.0811, -0.0293,  0.0097, -0.0920, -0.0816, -0.3990,\n",
       "           0.2434, -0.3577,  0.2344, -0.0486, -0.2713,  0.0879, -0.3398,  0.0759,\n",
       "          -0.5004,  0.2125, -0.0757,  0.0925,  0.0029, -0.1754, -0.0270,  0.0348,\n",
       "           0.3851, -0.1280,  0.4901,  0.4613, -0.3088, -0.0140,  0.3717, -0.0427,\n",
       "           0.3840, -0.2035,  0.1022,  0.1431,  0.4152, -0.1335,  0.2769, -0.0807],\n",
       "         [-0.4518, -0.2893, -0.2925, -0.0769, -0.0297,  0.0331,  0.1830,  0.4437,\n",
       "          -0.1342, -0.2131, -0.0867,  0.2248, -0.0565, -0.1745, -0.1017,  0.0739,\n",
       "           0.5164, -0.5208,  0.3285,  0.1652,  0.0085,  0.2920,  0.4880,  0.0716,\n",
       "           0.0231,  0.0046,  0.1726, -0.1556,  0.2750, -0.0088,  0.5302,  0.0769,\n",
       "          -0.3698, -0.1674, -0.0091, -0.0653, -0.3921,  0.5756,  0.0466, -0.4114],\n",
       "         [ 0.0603, -0.0928, -0.0508, -0.0278,  0.0192, -0.1385,  0.1308,  0.1289,\n",
       "          -0.3006, -0.0218,  0.1421, -0.1097, -0.1407, -0.2159, -0.0893,  0.2012,\n",
       "           0.0257, -0.0712, -0.0737,  0.0612,  0.0560,  0.0966,  0.0150,  0.0138,\n",
       "          -0.1825,  0.0264, -0.0505,  0.0683, -0.0964, -0.0463, -0.1907,  0.2657,\n",
       "           0.0930, -0.0054, -0.1117, -0.0482,  0.0390,  0.1998, -0.0890, -0.1286],\n",
       "         [-0.0193,  0.1572,  0.2994, -0.0045, -0.3617, -0.2511,  0.0744,  0.2197,\n",
       "           0.4575, -0.2391,  0.4859,  0.2936, -0.1967,  0.3385,  0.2754, -0.1600,\n",
       "           0.1899, -0.0315,  0.1640, -0.2584, -0.2763,  0.0838, -0.3646,  0.0380,\n",
       "           0.1690,  0.1105, -0.2936,  0.1598,  0.0022, -0.3462,  0.1027,  0.4310,\n",
       "          -0.4362, -0.2340,  0.0707, -0.2750,  0.2229,  0.2531,  0.0459, -0.3821],\n",
       "         [ 0.1079, -0.0474,  0.1618,  0.1075, -0.1533, -0.1842, -0.1088,  0.0506,\n",
       "          -0.0264,  0.1136, -0.1337,  0.0836,  0.0774, -0.2652,  0.1583, -0.0801,\n",
       "           0.2018,  0.1057, -0.0304, -0.1776,  0.2361,  0.1499,  0.1477, -0.1186,\n",
       "          -0.1355, -0.0889, -0.1594,  0.1662,  0.0759,  0.0733, -0.2706, -0.0019,\n",
       "           0.3991, -0.0259,  0.1549, -0.0765, -0.0584,  0.2273,  0.1306,  0.1092],\n",
       "         [-0.0889, -0.2504, -0.6400,  0.0512,  0.0770,  0.0867, -0.2677, -0.0044,\n",
       "          -0.4388, -0.3389, -0.0080,  0.0115, -0.2292, -0.6685,  0.0704, -0.0520,\n",
       "           0.1840,  0.2364,  0.1591, -0.1958,  0.1748,  0.2720,  0.4158, -0.0276,\n",
       "          -0.2039,  0.0560,  0.5779, -0.0096,  0.3495, -0.0742,  0.3043, -0.0373,\n",
       "          -0.0547,  0.4614, -0.0602,  0.0937, -0.2735, -0.3260,  0.0298, -0.1895],\n",
       "         [-0.1853, -0.3505, -0.2056, -0.2164,  0.0878,  0.1572, -0.0339,  0.1990,\n",
       "          -0.1395, -0.0422,  0.2960,  0.1384, -0.2092, -0.0377, -0.1382,  0.0727,\n",
       "           0.0799, -0.0677, -0.0362,  0.1032, -0.1257, -0.1343,  0.0726, -0.1649,\n",
       "          -0.1763,  0.0585, -0.5256,  0.1739, -0.1542,  0.1177, -0.3244,  0.0838,\n",
       "           0.1236,  0.3379, -0.0516,  0.0080,  0.1359,  0.0106, -0.1864,  0.1450],\n",
       "         [ 0.0612, -0.0380, -0.0693,  0.1206, -0.2925, -0.1020, -0.0446,  0.0672,\n",
       "          -0.0345,  0.0266, -0.0759,  0.1459,  0.0751, -0.0503,  0.1662, -0.1353,\n",
       "          -0.0770, -0.1016, -0.1266, -0.0212,  0.2128,  0.1283,  0.1813,  0.1213,\n",
       "          -0.2630,  0.0484, -0.1835,  0.1157,  0.1186,  0.0143, -0.1970, -0.1711,\n",
       "           0.1884, -0.0087,  0.2156, -0.1486, -0.0646, -0.0401, -0.0623,  0.1412],\n",
       "         [ 0.0784, -0.3066,  0.0130, -0.1174,  0.0361, -0.0009, -0.2298,  0.1642,\n",
       "           0.0373,  0.0088,  0.0091,  0.0730,  0.0022,  0.1478, -0.1554,  0.0188,\n",
       "           0.0958, -0.2289,  0.0105,  0.2189,  0.0964, -0.1716,  0.1333, -0.1401,\n",
       "          -0.3142,  0.2005, -0.2497, -0.0887,  0.1873,  0.0485, -0.3152,  0.2123,\n",
       "           0.1003,  0.0401,  0.1709,  0.1091,  0.0329, -0.1222, -0.0286,  0.0891],\n",
       "         [ 0.0151,  0.0172, -0.0417,  0.0927, -0.1512, -0.3574, -0.1380, -0.0617,\n",
       "          -0.0148, -0.1585, -0.0735,  0.1945, -0.2645,  0.3614, -0.3809, -0.1602,\n",
       "          -0.3988, -0.1366, -0.3268, -0.1680, -0.0182,  0.0501,  0.0936,  0.1946,\n",
       "          -0.2205, -0.3294, -0.2178, -0.1975,  0.0017, -0.0221, -0.0721,  0.2713,\n",
       "           0.0765,  0.2768, -0.3228, -0.0698, -0.4572, -0.0211, -0.5207, -0.2256],\n",
       "         [ 0.0540, -0.1253,  0.3103,  0.0091,  0.0270, -0.2222, -0.1603, -0.3008,\n",
       "           0.0720, -0.1347,  0.2079, -0.0085, -0.3333, -0.2532,  0.0226, -0.0744,\n",
       "          -0.1219,  0.1219, -0.1182, -0.2685, -0.1540, -0.1851,  0.1481,  0.1392,\n",
       "           0.0883,  0.1074,  0.2529,  0.1222,  0.0371,  0.0914,  0.1895,  0.1283,\n",
       "          -0.1556, -0.1596,  0.1739, -0.1022,  0.2864, -0.2933,  0.0517,  0.0405]],\n",
       "        requires_grad=True),\n",
       " Parameter containing:\n",
       " tensor([ 0.2186, -0.0906,  0.0721,  0.1651,  0.0686,  0.1476, -0.1873,  0.0290,\n",
       "          0.3066, -0.2077, -0.1298,  0.0670,  0.0436,  0.1875, -0.0719,  0.1176,\n",
       "          0.1903,  0.2142, -0.0414,  0.0487], requires_grad=True),\n",
       " Parameter containing:\n",
       " tensor([[ 0.2270, -0.5050,  0.1177,  0.2552,  0.1946,  0.1983, -0.6041,  0.2047,\n",
       "           0.5166, -0.6546, -0.4854,  0.1999, -0.5113,  0.2391, -0.4720,  0.2489,\n",
       "           0.1680,  0.2497,  0.5163, -0.1636]], requires_grad=True),\n",
       " Parameter containing:\n",
       " tensor([0.2757], requires_grad=True)]"
      ]
     },
     "execution_count": 51,
     "metadata": {},
     "output_type": "execute_result"
    }
   ],
   "source": [
    "list(pred.parameters())"
   ]
  },
  {
   "cell_type": "code",
   "execution_count": 54,
   "id": "b6352b08-d618-46f3-8165-01b9873ddd17",
   "metadata": {},
   "outputs": [
    {
     "name": "stdout",
     "output_type": "stream",
     "text": [
      "In epoch 0, loss: 0.18581295013427734\n",
      "In epoch 5, loss: 0.20346185564994812\n",
      "In epoch 10, loss: 0.185930073261261\n",
      "In epoch 15, loss: 0.18419614434242249\n",
      "In epoch 20, loss: 0.18501344323158264\n",
      "In epoch 25, loss: 0.18326669931411743\n",
      "In epoch 30, loss: 0.1809893101453781\n",
      "In epoch 35, loss: 0.1806168258190155\n",
      "In epoch 40, loss: 0.17974503338336945\n",
      "In epoch 45, loss: 0.17879442870616913\n",
      "In epoch 50, loss: 0.1781412810087204\n",
      "In epoch 55, loss: 0.17743074893951416\n",
      "In epoch 60, loss: 0.17675545811653137\n",
      "In epoch 65, loss: 0.1761402040719986\n",
      "In epoch 70, loss: 0.17550881206989288\n",
      "In epoch 75, loss: 0.1748753935098648\n",
      "In epoch 80, loss: 0.1742769032716751\n",
      "In epoch 85, loss: 0.17370642721652985\n",
      "In epoch 90, loss: 0.1731530725955963\n",
      "In epoch 95, loss: 0.17259767651557922\n",
      "AUC 0.9031872599447452\n"
     ]
    }
   ],
   "source": [
    "#optimizer = torch.optim.Adam(itertools.chain(model.parameters(), pred.parameters()), lr=0.01)\n",
    "optimizer = torch.optim.Adam(pred.parameters(), lr=0.01)\n",
    "\n",
    "all_logits = []\n",
    "for e in range(100):\n",
    "    model.eval()\n",
    "    h = model(train_g, embeddings)  #train_g.ndata['feat'])\n",
    "    pos_score = pred(train_pos_g, h)\n",
    "    neg_score = pred(train_neg_g, h)\n",
    "    loss = compute_loss(pos_score, neg_score)\n",
    "    \n",
    "    optimizer.zero_grad()\n",
    "    loss.backward(retain_graph=True)\n",
    "    optimizer.step()\n",
    "\n",
    "    if e % 5 == 0:\n",
    "        print('In epoch {}, loss: {}'.format(e, loss))\n",
    "\n",
    "\n",
    "from sklearn.metrics import roc_auc_score\n",
    "with torch.no_grad():\n",
    "    pos_score = pred(test_pos_g, h)\n",
    "    neg_score = pred(test_neg_g, h)\n",
    "    print('AUC', compute_auc(pos_score, neg_score))"
   ]
  },
  {
   "cell_type": "markdown",
   "id": "0057a9b7-19c3-4798-a1a1-74df965842c9",
   "metadata": {},
   "source": [
    "# LP Task with line Graph "
   ]
  },
  {
   "cell_type": "code",
   "execution_count": 32,
   "id": "064da53c-f15a-4f57-803a-277f28c3a0a2",
   "metadata": {},
   "outputs": [
    {
     "name": "stdout",
     "output_type": "stream",
     "text": [
      "2708\n",
      "10556\n"
     ]
    }
   ],
   "source": [
    "temp_G = nx.DiGraph()\n",
    "temp_G.add_edges_from(list(G.edges()))\n",
    "print(len(list(temp_G.nodes())))\n",
    "print(len(list(temp_G.edges())))"
   ]
  },
  {
   "cell_type": "code",
   "execution_count": 33,
   "id": "a36ba22b-1f0a-4d13-b11a-a11cf2a4c97a",
   "metadata": {},
   "outputs": [],
   "source": [
    "LnxG = nx.line_graph(temp_G)\n",
    "dual_g = dgl.from_networkx(LnxG)"
   ]
  },
  {
   "cell_type": "code",
   "execution_count": 34,
   "id": "9e2e3517-d9bc-435a-9bd6-171f9f0dc08e",
   "metadata": {},
   "outputs": [
    {
     "name": "stdout",
     "output_type": "stream",
     "text": [
      "10556\n"
     ]
    },
    {
     "data": {
      "text/plain": [
       "[(0, 633), (633, 0), (633, 1701), (633, 1866), (0, 1862)]"
      ]
     },
     "execution_count": 34,
     "metadata": {},
     "output_type": "execute_result"
    }
   ],
   "source": [
    "print(len(list(LnxG.nodes())))\n",
    "list(LnxG.nodes())[:5]"
   ]
  },
  {
   "cell_type": "code",
   "execution_count": 35,
   "id": "9086eec4-ad4c-44b9-839f-689e2c49d0c9",
   "metadata": {},
   "outputs": [
    {
     "data": {
      "text/plain": [
       "115158"
      ]
     },
     "execution_count": 35,
     "metadata": {},
     "output_type": "execute_result"
    }
   ],
   "source": [
    "len(list(LnxG.edges()))"
   ]
  },
  {
   "cell_type": "code",
   "execution_count": 84,
   "id": "4eb1711e-d139-44c7-89b6-10f28c53deeb",
   "metadata": {},
   "outputs": [],
   "source": [
    "def alternate_list(a,b):\n",
    "    c = list()\n",
    "    for x in range(len(a)):\n",
    "        c.extend([a[x], b[x]])\n",
    "    return c"
   ]
  },
  {
   "cell_type": "code",
   "execution_count": 138,
   "id": "0e7c0c1a-6c19-41b7-89d1-84549cd4e77d",
   "metadata": {
    "tags": []
   },
   "outputs": [],
   "source": [
    "m = nn.AvgPool1d(2, stride=2)\n",
    "#node2vec = Node2Vec(LnxG)\n",
    "#model_n2v = node2vec.fit(window=10, min_count=1)\n",
    "embeddings = [[alternate_list(model_n2v.wv[x][0],model_n2v.wv[x][1]) for x in list(LnxG.nodes)]]\n",
    "embeddings = m(torch.tensor(embeddings))[0]\n",
    "# embeddings = torch.from_numpy(np.reshape(embeddings.flatten(),(10556,256)))\n",
    "dual_g.ndata['feat'] = embeddings"
   ]
  },
  {
   "cell_type": "code",
   "execution_count": 37,
   "id": "32bfaf06-7b1e-4aee-85f2-cacb5d8a93b0",
   "metadata": {},
   "outputs": [
    {
     "name": "stdout",
     "output_type": "stream",
     "text": [
      "Graph(num_nodes=10556, num_edges=104602,\n",
      "      ndata_schemes={'feat': Scheme(shape=(256,), dtype=torch.float32)}\n",
      "      edata_schemes={})\n"
     ]
    }
   ],
   "source": [
    "dual_eids = np.random.permutation(np.arange(dual_g.number_of_edges()))\n",
    "train_dual_g = dgl.remove_edges(dual_g, eids[:int(len(dual_eids) * 0.1)]) #subgraph\n",
    "print(train_dual_g)"
   ]
  },
  {
   "cell_type": "code",
   "execution_count": 38,
   "id": "c2d1140c-8f1e-4857-aa74-52af5807445a",
   "metadata": {},
   "outputs": [],
   "source": [
    "model = GraphSAGE(train_dual_g.ndata['feat'].shape[1], 20)\n",
    "#model = SAGE(train_g.ndata['feat'].shape[1], 20, 4, F.relu, 0.25)\n",
    "#pred = DotPredictor()\n",
    "pred = MLPPredictor(20)"
   ]
  },
  {
   "cell_type": "code",
   "execution_count": 39,
   "id": "13688813-9113-470a-8928-4b6bf3e12c6c",
   "metadata": {},
   "outputs": [],
   "source": [
    "train_pos_g, test_pos_g = positive_sample(dual_g)\n",
    "train_neg_g, test_neg_g = negative_sample(dual_g, 'dgl_example')"
   ]
  },
  {
   "cell_type": "code",
   "execution_count": 40,
   "id": "d377ff42-5a5e-419d-96f9-5c40e61e5064",
   "metadata": {
    "tags": []
   },
   "outputs": [
    {
     "name": "stdout",
     "output_type": "stream",
     "text": [
      "In epoch 0, loss: 0.706829845905304\n",
      "In epoch 5, loss: 0.6571868062019348\n",
      "In epoch 10, loss: 0.6407327055931091\n",
      "In epoch 15, loss: 0.6243399381637573\n",
      "In epoch 20, loss: 0.6006797552108765\n",
      "In epoch 25, loss: 0.5711714625358582\n",
      "In epoch 30, loss: 0.546612560749054\n",
      "In epoch 35, loss: 0.5299765467643738\n",
      "In epoch 40, loss: 0.5167433023452759\n",
      "In epoch 45, loss: 0.5066409111022949\n",
      "In epoch 50, loss: 0.4984222650527954\n",
      "In epoch 55, loss: 0.49076011776924133\n",
      "In epoch 60, loss: 0.48473072052001953\n",
      "In epoch 65, loss: 0.48049843311309814\n",
      "In epoch 70, loss: 0.4720494747161865\n",
      "In epoch 75, loss: 0.4649830758571625\n",
      "In epoch 80, loss: 0.4580879807472229\n",
      "In epoch 85, loss: 0.44973331689834595\n",
      "In epoch 90, loss: 0.44106853008270264\n",
      "In epoch 95, loss: 0.4309082329273224\n",
      "AUC 0.8564272029271526\n"
     ]
    }
   ],
   "source": [
    "optimizer = torch.optim.Adam(itertools.chain(model.parameters(), pred.parameters()), lr=0.01)\n",
    "\n",
    "all_logits = []\n",
    "for e in range(100):\n",
    "    h = model(train_dual_g, embeddings)  #train_g.ndata['feat'])\n",
    "    pos_score = pred(train_pos_g, h)\n",
    "    neg_score = pred(train_neg_g, h)\n",
    "    loss = compute_loss(pos_score, neg_score)\n",
    "    \n",
    "    optimizer.zero_grad()\n",
    "    loss.backward()\n",
    "    optimizer.step()\n",
    "\n",
    "    if e % 5 == 0:\n",
    "        print('In epoch {}, loss: {}'.format(e, loss))\n",
    "\n",
    "\n",
    "from sklearn.metrics import roc_auc_score\n",
    "with torch.no_grad():\n",
    "    pos_score = pred(test_pos_g, h)\n",
    "    neg_score = pred(test_neg_g, h)\n",
    "    print('AUC', compute_auc(pos_score, neg_score))"
   ]
  },
  {
   "cell_type": "code",
   "execution_count": 42,
   "id": "03cc5bb3-cbb5-455e-90be-91c507841c20",
   "metadata": {},
   "outputs": [
    {
     "data": {
      "text/plain": [
       "[(0, 633), (633, 0), (633, 1701), (633, 1866), (0, 1862)]"
      ]
     },
     "execution_count": 42,
     "metadata": {},
     "output_type": "execute_result"
    }
   ],
   "source": [
    "list(LnxG.nodes)[:5]"
   ]
  },
  {
   "cell_type": "code",
   "execution_count": 43,
   "id": "02c4e0f8-8812-41ff-8619-b7a19d2c57ed",
   "metadata": {},
   "outputs": [
    {
     "data": {
      "text/plain": [
       "array([[-0.3561999 ,  0.07185076,  0.64677095,  1.1466671 , -0.22148785,\n",
       "        -1.2639918 , -0.67631733, -0.3686724 , -0.21487173, -0.00211923,\n",
       "         0.1709498 , -0.14078696,  0.27068004, -0.73967564, -0.80667037,\n",
       "        -0.11416445, -0.5443083 ,  0.3135143 , -0.94982415, -0.0451231 ,\n",
       "        -0.30718407, -0.14284241,  1.1047883 , -0.03200176, -0.46497816,\n",
       "        -0.32271215, -0.20371759,  0.15103401,  0.3425304 ,  0.28504324,\n",
       "        -0.08860509,  0.64210296,  0.4754786 ,  0.64752066,  0.25161168,\n",
       "         0.00880363, -0.0652345 ,  0.19110148,  0.17214754, -0.1007219 ,\n",
       "         0.54392064,  1.0304666 , -0.07931601,  0.1414947 , -0.52883375,\n",
       "         0.01687058, -0.6117683 , -0.4542856 ,  0.03097405,  0.3839137 ,\n",
       "        -0.06619526,  0.14554574,  0.35213888, -0.06990024, -0.02426645,\n",
       "        -0.18932559, -0.42681122, -0.6014553 ,  0.33449978,  0.2922842 ,\n",
       "         0.5954542 , -0.05438709,  0.07901666,  0.09365355,  0.41520372,\n",
       "        -0.6046495 ,  0.5585892 ,  0.3393644 , -0.0377478 ,  0.13717589,\n",
       "        -0.21692105,  0.6447395 , -0.42126372,  0.72817266,  0.56315076,\n",
       "        -0.75204587,  0.7666268 ,  0.65203786, -0.6648291 , -0.01205032,\n",
       "        -0.1923627 , -0.04646981, -0.31978473,  0.3609038 ,  0.7440688 ,\n",
       "        -0.26450998,  0.07224659, -0.92860097,  0.12593545,  0.49709052,\n",
       "         0.33050057,  0.6857663 , -0.53293556, -0.613222  ,  0.18208243,\n",
       "         0.16896844, -0.08825081,  0.25837135,  0.00329447,  0.18545978,\n",
       "        -1.0244069 ,  0.518768  , -0.2892577 , -0.61821073,  1.1189959 ,\n",
       "        -0.17899191, -0.05720698,  0.26568374, -0.7815562 ,  0.40949547,\n",
       "         0.2384017 ,  0.42494237, -0.10093565, -0.12435535,  0.08110779,\n",
       "         0.3059567 ,  0.6491793 , -0.03661205,  0.5971598 ,  0.06434215,\n",
       "        -0.36148855, -0.09041543,  0.13007085, -0.12819192,  0.51408625,\n",
       "        -0.39336973, -0.2757936 , -0.31130174],\n",
       "       [-0.219367  ,  0.3056062 , -0.58546954,  0.7648601 ,  0.39945927,\n",
       "        -0.19458294, -1.0509707 , -0.22065453, -0.3950886 ,  0.17717305,\n",
       "        -0.46784908,  0.51632637,  0.03209847, -0.07202842, -0.38179114,\n",
       "        -0.3705133 , -0.02942214,  0.20758241, -1.1122111 ,  0.05561341,\n",
       "        -0.13362044, -0.27654088,  0.469745  , -0.02380889,  0.04377521,\n",
       "        -0.26780036,  0.17081147,  0.4042723 ,  0.11591729,  0.3211836 ,\n",
       "        -0.15415956, -0.36565992, -0.4098178 ,  0.07039899, -0.02444448,\n",
       "         0.0575353 , -0.10847444, -0.4448861 , -0.07080138,  0.2930411 ,\n",
       "         0.10732735, -0.45844248,  0.17808996,  0.20233148,  0.06818961,\n",
       "         0.22506434,  0.08243116, -0.27387604, -0.09790609, -0.0124504 ,\n",
       "         0.9804755 ,  0.01994038,  0.41234958,  0.1417519 , -0.44420347,\n",
       "        -0.6636331 , -0.16825251,  0.5978889 ,  0.12911454, -0.50813943,\n",
       "        -0.23414524,  0.6022513 , -0.11537536, -0.42262885, -0.18133624,\n",
       "        -0.2727856 ,  0.4291484 ,  0.19871776,  0.2968216 ,  0.31888056,\n",
       "         0.35695654,  0.5310321 ,  0.20034245,  0.5494217 ,  0.46083716,\n",
       "         0.09809799,  0.0180881 ,  0.7209796 , -0.5952159 ,  0.01417642,\n",
       "         0.22303845,  0.15219389,  0.73697793, -0.15867901,  0.10464652,\n",
       "         0.04520162, -0.05955331, -0.3156895 , -0.30071393,  0.3471032 ,\n",
       "         0.7191121 ,  0.4123929 , -0.16587847,  0.5363542 , -0.18232614,\n",
       "         0.0172768 ,  0.1369702 ,  0.22785904, -0.12840065,  0.35702148,\n",
       "        -0.4566484 ,  0.25407436, -0.03635288,  0.11442258,  0.81653017,\n",
       "        -0.15333061,  0.01251363, -0.38916075, -0.33292088,  0.11132243,\n",
       "         0.57290566,  0.85256   ,  0.16741621,  0.29675052, -0.0330625 ,\n",
       "        -0.19476114,  0.54790795,  0.12651497,  0.10935923,  0.5773363 ,\n",
       "        -0.10501451, -0.02665737,  0.07288287, -0.01536382,  0.31113786,\n",
       "         0.22996081, -0.37469515, -0.46908233]], dtype=float32)"
      ]
     },
     "execution_count": 43,
     "metadata": {},
     "output_type": "execute_result"
    }
   ],
   "source": [
    "model_n2v.wv[(0, 633)]"
   ]
  },
  {
   "cell_type": "code",
   "execution_count": 44,
   "id": "6498a750-8570-4747-bf37-71bf2d0c6257",
   "metadata": {},
   "outputs": [
    {
     "data": {
      "text/plain": [
       "array([-0.3561999 ,  0.07185076,  0.64677095,  1.1466671 , -0.22148785,\n",
       "       -1.2639918 , -0.67631733, -0.3686724 , -0.21487173, -0.00211923,\n",
       "        0.1709498 , -0.14078696,  0.27068004, -0.73967564, -0.80667037,\n",
       "       -0.11416445, -0.5443083 ,  0.3135143 , -0.94982415, -0.0451231 ,\n",
       "       -0.30718407, -0.14284241,  1.1047883 , -0.03200176, -0.46497816,\n",
       "       -0.32271215, -0.20371759,  0.15103401,  0.3425304 ,  0.28504324,\n",
       "       -0.08860509,  0.64210296,  0.4754786 ,  0.64752066,  0.25161168,\n",
       "        0.00880363, -0.0652345 ,  0.19110148,  0.17214754, -0.1007219 ,\n",
       "        0.54392064,  1.0304666 , -0.07931601,  0.1414947 , -0.52883375,\n",
       "        0.01687058, -0.6117683 , -0.4542856 ,  0.03097405,  0.3839137 ,\n",
       "       -0.06619526,  0.14554574,  0.35213888, -0.06990024, -0.02426645,\n",
       "       -0.18932559, -0.42681122, -0.6014553 ,  0.33449978,  0.2922842 ,\n",
       "        0.5954542 , -0.05438709,  0.07901666,  0.09365355,  0.41520372,\n",
       "       -0.6046495 ,  0.5585892 ,  0.3393644 , -0.0377478 ,  0.13717589,\n",
       "       -0.21692105,  0.6447395 , -0.42126372,  0.72817266,  0.56315076,\n",
       "       -0.75204587,  0.7666268 ,  0.65203786, -0.6648291 , -0.01205032,\n",
       "       -0.1923627 , -0.04646981, -0.31978473,  0.3609038 ,  0.7440688 ,\n",
       "       -0.26450998,  0.07224659, -0.92860097,  0.12593545,  0.49709052,\n",
       "        0.33050057,  0.6857663 , -0.53293556, -0.613222  ,  0.18208243,\n",
       "        0.16896844, -0.08825081,  0.25837135,  0.00329447,  0.18545978,\n",
       "       -1.0244069 ,  0.518768  , -0.2892577 , -0.61821073,  1.1189959 ,\n",
       "       -0.17899191, -0.05720698,  0.26568374, -0.7815562 ,  0.40949547,\n",
       "        0.2384017 ,  0.42494237, -0.10093565, -0.12435535,  0.08110779,\n",
       "        0.3059567 ,  0.6491793 , -0.03661205,  0.5971598 ,  0.06434215,\n",
       "       -0.36148855, -0.09041543,  0.13007085, -0.12819192,  0.51408625,\n",
       "       -0.39336973, -0.2757936 , -0.31130174], dtype=float32)"
      ]
     },
     "execution_count": 44,
     "metadata": {},
     "output_type": "execute_result"
    }
   ],
   "source": [
    "model_n2v.wv[0]"
   ]
  },
  {
   "cell_type": "code",
   "execution_count": 46,
   "id": "7ad0ebe7-5c85-4c6b-96f3-ac7e93124292",
   "metadata": {},
   "outputs": [
    {
     "data": {
      "text/plain": [
       "['(1564, 1786)',\n",
       " '(1786, 18)',\n",
       " '(18, 1786)',\n",
       " '(1786, 1564)',\n",
       " '(1564, 1786)',\n",
       " '(1786, 1624)',\n",
       " '(1624, 409)',\n",
       " '(409, 407)',\n",
       " '(407, 695)',\n",
       " '(695, 1682)',\n",
       " '(1682, 2320)',\n",
       " '(2320, 1682)',\n",
       " '(1682, 2319)',\n",
       " '(2319, 1682)',\n",
       " '(1682, 2291)',\n",
       " '(2291, 377)',\n",
       " '(377, 1265)',\n",
       " '(1265, 377)',\n",
       " '(377, 733)',\n",
       " '(733, 2301)',\n",
       " '(2301, 2008)',\n",
       " '(2008, 733)',\n",
       " '(733, 2303)',\n",
       " '(2303, 2541)',\n",
       " '(2541, 1591)',\n",
       " '(1591, 2541)',\n",
       " '(2541, 1591)',\n",
       " '(1591, 2541)',\n",
       " '(2541, 2303)',\n",
       " '(2303, 733)',\n",
       " '(733, 2301)',\n",
       " '(2301, 733)',\n",
       " '(733, 1329)',\n",
       " '(1329, 733)',\n",
       " '(733, 218)',\n",
       " '(218, 781)',\n",
       " '(781, 218)',\n",
       " '(218, 2594)',\n",
       " '(2594, 218)',\n",
       " '(218, 482)',\n",
       " '(482, 2230)',\n",
       " '(2230, 938)',\n",
       " '(938, 2230)',\n",
       " '(2230, 938)',\n",
       " '(938, 2230)',\n",
       " '(2230, 938)',\n",
       " '(938, 618)',\n",
       " '(618, 938)',\n",
       " '(938, 618)',\n",
       " '(618, 938)',\n",
       " '(938, 2230)',\n",
       " '(2230, 482)',\n",
       " '(482, 2230)',\n",
       " '(2230, 938)',\n",
       " '(938, 2230)',\n",
       " '(2230, 606)',\n",
       " '(606, 27)',\n",
       " '(27, 606)',\n",
       " '(606, 27)',\n",
       " '(27, 606)',\n",
       " '(606, 1666)',\n",
       " '(1666, 49)',\n",
       " '(49, 2034)',\n",
       " '(2034, 617)',\n",
       " '(617, 2034)',\n",
       " '(2034, 2042)',\n",
       " '(2042, 2039)',\n",
       " '(2039, 2034)',\n",
       " '(2034, 1026)',\n",
       " '(1026, 1303)',\n",
       " '(1303, 2163)',\n",
       " '(2163, 1073)',\n",
       " '(1073, 985)',\n",
       " '(985, 1149)',\n",
       " '(1149, 1986)',\n",
       " '(1986, 1989)',\n",
       " '(1989, 1986)',\n",
       " '(1986, 71)',\n",
       " '(71, 2691)',\n",
       " '(2691, 71)']"
      ]
     },
     "execution_count": 46,
     "metadata": {},
     "output_type": "execute_result"
    }
   ],
   "source": [
    "node2vec.walks[0]"
   ]
  },
  {
   "cell_type": "code",
   "execution_count": null,
   "id": "50c06b19-baf5-4903-a245-180dde215e6a",
   "metadata": {},
   "outputs": [],
   "source": []
  },
  {
   "cell_type": "code",
   "execution_count": null,
   "id": "a1d07293-b853-49a1-998f-80eb0f184971",
   "metadata": {},
   "outputs": [],
   "source": []
  },
  {
   "cell_type": "code",
   "execution_count": null,
   "id": "bf0e1006-c289-4bcf-a772-d498eb83f832",
   "metadata": {},
   "outputs": [],
   "source": []
  },
  {
   "cell_type": "code",
   "execution_count": null,
   "id": "4e239f5d-5220-4fbd-b6d7-8ec99cb8fc62",
   "metadata": {},
   "outputs": [],
   "source": []
  },
  {
   "cell_type": "code",
   "execution_count": null,
   "id": "14642290-8d77-4089-8bf1-f5a104beca0c",
   "metadata": {},
   "outputs": [],
   "source": []
  },
  {
   "cell_type": "code",
   "execution_count": null,
   "id": "39529b68-7d29-4e29-bc44-ad44f47d2c69",
   "metadata": {},
   "outputs": [],
   "source": []
  },
  {
   "cell_type": "code",
   "execution_count": null,
   "id": "08125c99-3a78-427e-958c-868901d2f3ba",
   "metadata": {},
   "outputs": [],
   "source": [
    "train_g = dgl.remove_edges(g, eids[:1000], ) #subgraph\n",
    "train_g = dgl.remove_nodes(train_g, range(2000))\n",
    "print(train_g)\n",
    "\n",
    "label2 = train_g.ndata['label']\n",
    "nx_G2 = train_g.to_networkx()\n",
    "\n",
    "#visualize(label2, nx_G2)"
   ]
  },
  {
   "cell_type": "code",
   "execution_count": null,
   "id": "1af4262f-29ea-4d20-a48b-2a07c00c18f6",
   "metadata": {},
   "outputs": [],
   "source": []
  },
  {
   "cell_type": "markdown",
   "id": "53eb5d34-4659-4d70-a55f-ff979fe324e9",
   "metadata": {},
   "source": [
    "# TRASH"
   ]
  },
  {
   "cell_type": "code",
   "execution_count": null,
   "id": "6d031c61-b7cc-40bc-bcfa-ec39c1e47857",
   "metadata": {},
   "outputs": [],
   "source": [
    "'''\n",
    "data_dir = os.path.expanduser(\"~/data/cora\")\n",
    "\n",
    "data_dir\n",
    "#edgelist = pd.read_csv(os.path.join(data_dir, \"cora.cites\"), sep='\\t', header=None, names=[\"target\", \"source\"])\n",
    "\n",
    "edgelist = pd.read_csv(f\"./data/cora/cora.cites\", sep='\\t', header=None, names=[\"target\", \"source\"])\n",
    "edgelist[\"label\"] = \"cites\"\n",
    "\n",
    "edgelist.sample(frac=1).head(5)\n",
    "\n",
    "Gnx = nx.from_pandas_edgelist(edgelist, edge_attr=\"label\")\n",
    "#nx.set_node_attributes(Gnx, \"paper\", \"label\")"
   ]
  },
  {
   "cell_type": "code",
   "execution_count": null,
   "id": "0d58c54a-6dab-40c1-be25-8d6057259517",
   "metadata": {},
   "outputs": [],
   "source": []
  },
  {
   "cell_type": "code",
   "execution_count": null,
   "id": "1879dc13-1ce3-4afe-8d3e-91d805d0a0ce",
   "metadata": {},
   "outputs": [],
   "source": []
  },
  {
   "cell_type": "code",
   "execution_count": null,
   "id": "aca94eef-060f-4ac6-a653-77ffe413ac83",
   "metadata": {},
   "outputs": [],
   "source": []
  }
 ],
 "metadata": {
  "kernelspec": {
   "display_name": "Python 3 (ipykernel)",
   "language": "python",
   "name": "python3"
  },
  "language_info": {
   "codemirror_mode": {
    "name": "ipython",
    "version": 3
   },
   "file_extension": ".py",
   "mimetype": "text/x-python",
   "name": "python",
   "nbconvert_exporter": "python",
   "pygments_lexer": "ipython3",
   "version": "3.9.7"
  }
 },
 "nbformat": 4,
 "nbformat_minor": 5
}
